{
 "cells": [
  {
   "cell_type": "code",
   "execution_count": 1,
   "metadata": {},
   "outputs": [],
   "source": [
    "import pathlib"
   ]
  },
  {
   "cell_type": "code",
   "execution_count": 22,
   "metadata": {},
   "outputs": [
    {
     "name": "stdout",
     "output_type": "stream",
     "text": [
      "L:\\train\\image-0.jpg\n",
      "L:\\train\\image-1.jpg\n",
      "L:\\train\\image-10.jpg\n",
      "L:\\train\\image-11.jpg\n",
      "L:\\train\\image-12.jpg\n",
      "L:\\train\\image-13.jpg\n",
      "L:\\train\\image-14.jpg\n",
      "L:\\train\\image-15.jpg\n",
      "L:\\train\\image-16.jpg\n",
      "L:\\train\\image-17.jpg\n",
      "L:\\train\\image-18.jpg\n",
      "L:\\train\\image-19.jpg\n",
      "L:\\train\\image-2.jpg\n",
      "L:\\train\\image-3.jpg\n",
      "L:\\train\\image-4.jpg\n",
      "L:\\train\\image-5.jpg\n",
      "L:\\train\\image-6.jpg\n",
      "L:\\train\\image-7.jpg\n",
      "L:\\train\\image-8.jpg\n",
      "L:\\train\\image-9.jpg\n"
     ]
    }
   ],
   "source": [
    "PATH_TO_TEST_IMAGES_DIR = pathlib.Path('L:/train')\n",
    "TEST_IMAGE_PATHS = sorted(list(PATH_TO_TEST_IMAGES_DIR.glob(\"*.jpg\")))\n",
    "\n",
    "for n, image_path in enumerate(TEST_IMAGE_PATHS):\n",
    "    image_path.rename(pathlib.Path(PATH_TO_TEST_IMAGES_DIR, f\"image-{n}.jpg\"))\n",
    "    print(image_path)"
   ]
  },
  {
   "cell_type": "code",
   "execution_count": null,
   "metadata": {},
   "outputs": [],
   "source": []
  }
 ],
 "metadata": {
  "kernelspec": {
   "display_name": "Python 3",
   "language": "python",
   "name": "python3"
  },
  "language_info": {
   "codemirror_mode": {
    "name": "ipython",
    "version": 3
   },
   "file_extension": ".py",
   "mimetype": "text/x-python",
   "name": "python",
   "nbconvert_exporter": "python",
   "pygments_lexer": "ipython3",
   "version": "3.6.7"
  }
 },
 "nbformat": 4,
 "nbformat_minor": 4
}
